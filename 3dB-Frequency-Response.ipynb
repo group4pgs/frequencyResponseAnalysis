{
 "cells": [
  {
   "cell_type": "code",
   "execution_count": 1,
   "metadata": {},
   "outputs": [],
   "source": [
    "import numpy as np\n",
    "from scipy.optimize import curve_fit\n",
    "popt, pcov = [0],[0]"
   ]
  },
  {
   "cell_type": "code",
   "execution_count": 2,
   "metadata": {},
   "outputs": [],
   "source": [
    "def funcPoly(x,a,b,c,d,e):\n",
    "    return a+b*x+c*x**2+d*x**3+e*x**4"
   ]
  },
  {
   "cell_type": "code",
   "execution_count": 10,
   "metadata": {},
   "outputs": [],
   "source": [
    "def func(x, a, b):\n",
    "    return a*np.exp(b * x)\n",
    "\n",
    "def fittingCurve(xD,yD):\n",
    "    popt, pcov = curve_fit(funcPoly, xD, yD)\n",
    "    print(popt)\n",
    "    return popt\n",
    "\n",
    "def f(x,popt):\n",
    "    return funcPoly(x,*popt)"
   ]
  },
  {
   "cell_type": "code",
   "execution_count": 11,
   "metadata": {},
   "outputs": [],
   "source": [
    "def findx(y0,popt):\n",
    "    x0,dx=0,10\n",
    "    approx=y0-f(x0,popt)\n",
    "    flag=True\n",
    "    while dx>1e-5:\n",
    "        if approx<0:#What decides to calculate up or down\n",
    "            x0=x0+dx\n",
    "        else:\n",
    "            x0=x0-dx\n",
    "            dx=dx/10\n",
    "            x0=x0+dx\n",
    "        \n",
    "        approx=y0-f(x0,popt)\n",
    "    return x0"
   ]
  },
  {
   "cell_type": "code",
   "execution_count": 12,
   "metadata": {},
   "outputs": [],
   "source": [
    "def decibelFrequency(x,y):\n",
    "    popt=fittingCurve(x,y)\n",
    "    y0=max(y)/np.sqrt(2)\n",
    "    x=findx(y0,popt)\n",
    "    return x"
   ]
  },
  {
   "cell_type": "code",
   "execution_count": 13,
   "metadata": {},
   "outputs": [
    {
     "name": "stdout",
     "output_type": "stream",
     "text": [
      "[ 2.38454809e+00  3.43515553e-05 -3.70429643e-09 -1.22359507e-12\n",
      "  7.25222604e-17]\n",
      "The 3dB frequency is estimated to be =  11501.316509999999\n"
     ]
    }
   ],
   "source": [
    "xD,yD=[100,200,500,1000,2000,5000,10000,12000,15000],[2.4,2.4,2.4,2.4,2.4,2.4,1.8,1.7,1.6]\n",
    "print(\"The 3dB frequency is estimated to be = \",decibelFrequency(xD,yD))"
   ]
  },
  {
   "cell_type": "code",
   "execution_count": 21,
   "metadata": {},
   "outputs": [
    {
     "data": {
      "image/png": "[encoded data removed]",
      "text/plain": [
       "<Figure size 432x288 with 1 Axes>"
      ]
     },
     "metadata": {
      "needs_background": "light"
     },
     "output_type": "display_data"
    }
   ],
   "source": [
    "import matplotlib.pyplot as plt\n",
    "\n",
    "x=np.linspace(1,max(xD),100000)\n",
    "plt.plot(xD,yD,'o-',label='data')\n",
    "plt.plot(x,y,'g',label='fitted curve')\n",
    "plt.plot(x,[max(yD)/np.sqrt(2)]*len(x),'r',label='3db')\n",
    "plt.ylim(0,max(y)+1)\n",
    "plt.legend()\n",
    "plt.title('Frequency Response')\n",
    "plt.savefig('frequencyResponseGraph.png')\n",
    "plt.show()\n"
   ]
  },
  {
   "cell_type": "code",
   "execution_count": 16,
   "metadata": {},
   "outputs": [],
   "source": [
    "popt=[ 2.38454809e+00 , 3.43515553e-05, -3.70429643e-09 ,-1.22359507e-12,7.25222604e-17]\n",
    "y=f(x,popt)"
   ]
  },
  {
   "cell_type": "code",
   "execution_count": null,
   "metadata": {},
   "outputs": [],
   "source": []
  }
 ],
 "metadata": {
  "kernelspec": {
   "display_name": "Python 3",
   "language": "python",
   "name": "python3"
  },
  "language_info": {
   "codemirror_mode": {
    "name": "ipython",
    "version": 3
   },
   "file_extension": ".py",
   "mimetype": "text/x-python",
   "name": "python",
   "nbconvert_exporter": "python",
   "pygments_lexer": "ipython3",
   "version": "3.7.4"
  }
 },
 "nbformat": 4,
 "nbformat_minor": 2
}
